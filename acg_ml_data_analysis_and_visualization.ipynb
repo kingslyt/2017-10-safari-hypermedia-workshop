{
  "nbformat": 4,
  "nbformat_minor": 0,
  "metadata": {
    "colab": {
      "name": "acg-ml-data-analysis and visualization.ipynb",
      "provenance": [],
      "collapsed_sections": [],
      "authorship_tag": "ABX9TyOz1yI836TsFluLj5pxM5Ce",
      "include_colab_link": true
    },
    "kernelspec": {
      "name": "python3",
      "display_name": "Python 3"
    }
  },
  "cells": [
    {
      "cell_type": "markdown",
      "metadata": {
        "id": "view-in-github",
        "colab_type": "text"
      },
      "source": [
        "<a href=\"https://colab.research.google.com/github/kingslyt/2017-10-safari-hypermedia-workshop/blob/master/acg_ml_data_analysis_and_visualization.ipynb\" target=\"_parent\"><img src=\"https://colab.research.google.com/assets/colab-badge.svg\" alt=\"Open In Colab\"/></a>"
      ]
    },
    {
      "cell_type": "code",
      "metadata": {
        "id": "3xRKW-B_IlhK"
      },
      "source": [
        "import pandas as pd\r\n"
      ],
      "execution_count": 1,
      "outputs": []
    },
    {
      "cell_type": "code",
      "metadata": {
        "id": "N6jHp7CSJ7Jl"
      },
      "source": [
        "cars=pd.read_csv(\"car_data.csv\")"
      ],
      "execution_count": 2,
      "outputs": []
    },
    {
      "cell_type": "code",
      "metadata": {
        "colab": {
          "base_uri": "https://localhost:8080/"
        },
        "id": "tt_6ZSF6KFSo",
        "outputId": "08bf4d1d-0858-483d-be78-ffd153159932"
      },
      "source": [
        "cars.size"
      ],
      "execution_count": 3,
      "outputs": [
        {
          "output_type": "execute_result",
          "data": {
            "text/plain": [
              "17649"
            ]
          },
          "metadata": {
            "tags": []
          },
          "execution_count": 3
        }
      ]
    },
    {
      "cell_type": "code",
      "metadata": {
        "colab": {
          "base_uri": "https://localhost:8080/"
        },
        "id": "jbGvsTMoKGx4",
        "outputId": "66e6e925-9353-44e0-a501-5cf4d1582938"
      },
      "source": [
        "cars.columns"
      ],
      "execution_count": 4,
      "outputs": [
        {
          "output_type": "execute_result",
          "data": {
            "text/plain": [
              "Index(['car', 'year', 'engine_hp', 'avg_mpg', 'price', 'salesman',\n",
              "       'dealership', 'sold_date', 'sold_month'],\n",
              "      dtype='object')"
            ]
          },
          "metadata": {
            "tags": []
          },
          "execution_count": 4
        }
      ]
    },
    {
      "cell_type": "code",
      "metadata": {
        "id": "yQHiKlZyKJ7S"
      },
      "source": [
        "%matplotlib inline\r\n",
        "import matplotlib.pyplot as plt\r\n",
        "plt.style.use('seaborn-whitegrid')\r\n",
        "import numpy as np"
      ],
      "execution_count": 5,
      "outputs": []
    },
    {
      "cell_type": "code",
      "metadata": {
        "colab": {
          "base_uri": "https://localhost:8080/",
          "height": 266
        },
        "id": "I_teZ5mLKP6V",
        "outputId": "21e9aadf-e880-4dae-cb04-7a0c26a8399e"
      },
      "source": [
        "fig = plt.figure()\r\n",
        "ax = plt.axes()"
      ],
      "execution_count": 6,
      "outputs": [
        {
          "output_type": "display_data",
          "data": {
            "image/png": "[encoded data removed]",
            "text/plain": [
              "<Figure size 432x288 with 1 Axes>"
            ]
          },
          "metadata": {
            "tags": []
          }
        }
      ]
    },
    {
      "cell_type": "code",
      "metadata": {
        "colab": {
          "base_uri": "https://localhost:8080/",
          "height": 359
        },
        "id": "nTTUy6NLKeI2",
        "outputId": "7665d2d3-948a-4725-d491-589f959d27e5"
      },
      "source": [
        "cars.head(10)"
      ],
      "execution_count": 19,
      "outputs": [
        {
          "output_type": "execute_result",
          "data": {
            "text/html": [
              "<div>\n",
              "<style scoped>\n",
              "    .dataframe tbody tr th:only-of-type {\n",
              "        vertical-align: middle;\n",
              "    }\n",
              "\n",
              "    .dataframe tbody tr th {\n",
              "        vertical-align: top;\n",
              "    }\n",
              "\n",
              "    .dataframe thead th {\n",
              "        text-align: right;\n",
              "    }\n",
              "</style>\n",
              "<table border=\"1\" class=\"dataframe\">\n",
              "  <thead>\n",
              "    <tr style=\"text-align: right;\">\n",
              "      <th></th>\n",
              "      <th>car</th>\n",
              "      <th>year</th>\n",
              "      <th>engine_hp</th>\n",
              "      <th>avg_mpg</th>\n",
              "      <th>price</th>\n",
              "      <th>salesman</th>\n",
              "      <th>dealership</th>\n",
              "      <th>sold_date</th>\n",
              "      <th>sold_month</th>\n",
              "    </tr>\n",
              "  </thead>\n",
              "  <tbody>\n",
              "    <tr>\n",
              "      <th>0</th>\n",
              "      <td>Corvette</td>\n",
              "      <td>2011</td>\n",
              "      <td>335.0</td>\n",
              "      <td>22.5</td>\n",
              "      <td>46135</td>\n",
              "      <td>2</td>\n",
              "      <td>Big Bobs</td>\n",
              "      <td>2012-05-06</td>\n",
              "      <td>5</td>\n",
              "    </tr>\n",
              "    <tr>\n",
              "      <th>1</th>\n",
              "      <td>Corvette</td>\n",
              "      <td>2011</td>\n",
              "      <td>300.0</td>\n",
              "      <td>23.5</td>\n",
              "      <td>40650</td>\n",
              "      <td>2</td>\n",
              "      <td>Uptown Cars</td>\n",
              "      <td>2011-05-16</td>\n",
              "      <td>5</td>\n",
              "    </tr>\n",
              "    <tr>\n",
              "      <th>2</th>\n",
              "      <td>Corvette</td>\n",
              "      <td>2011</td>\n",
              "      <td>300.0</td>\n",
              "      <td>24.0</td>\n",
              "      <td>36350</td>\n",
              "      <td>2</td>\n",
              "      <td>Uptown Cars</td>\n",
              "      <td>2013-07-31</td>\n",
              "      <td>7</td>\n",
              "    </tr>\n",
              "    <tr>\n",
              "      <th>3</th>\n",
              "      <td>Corvette</td>\n",
              "      <td>2011</td>\n",
              "      <td>230.0</td>\n",
              "      <td>23.0</td>\n",
              "      <td>29450</td>\n",
              "      <td>2</td>\n",
              "      <td>Uptown Cars</td>\n",
              "      <td>2014-07-05</td>\n",
              "      <td>7</td>\n",
              "    </tr>\n",
              "    <tr>\n",
              "      <th>4</th>\n",
              "      <td>Corvette</td>\n",
              "      <td>2011</td>\n",
              "      <td>230.0</td>\n",
              "      <td>23.0</td>\n",
              "      <td>34500</td>\n",
              "      <td>2</td>\n",
              "      <td>Uptown Cars</td>\n",
              "      <td>2013-05-20</td>\n",
              "      <td>5</td>\n",
              "    </tr>\n",
              "    <tr>\n",
              "      <th>5</th>\n",
              "      <td>Corvette</td>\n",
              "      <td>2012</td>\n",
              "      <td>230.0</td>\n",
              "      <td>23.0</td>\n",
              "      <td>31200</td>\n",
              "      <td>3</td>\n",
              "      <td>Car Town</td>\n",
              "      <td>2013-04-10</td>\n",
              "      <td>4</td>\n",
              "    </tr>\n",
              "    <tr>\n",
              "      <th>6</th>\n",
              "      <td>Corvette</td>\n",
              "      <td>2012</td>\n",
              "      <td>300.0</td>\n",
              "      <td>21.5</td>\n",
              "      <td>44100</td>\n",
              "      <td>3</td>\n",
              "      <td>Uptown Cars</td>\n",
              "      <td>2015-12-13</td>\n",
              "      <td>12</td>\n",
              "    </tr>\n",
              "    <tr>\n",
              "      <th>7</th>\n",
              "      <td>Corvette</td>\n",
              "      <td>2012</td>\n",
              "      <td>300.0</td>\n",
              "      <td>24.0</td>\n",
              "      <td>39300</td>\n",
              "      <td>2</td>\n",
              "      <td>Big Bobs</td>\n",
              "      <td>2013-05-19</td>\n",
              "      <td>5</td>\n",
              "    </tr>\n",
              "    <tr>\n",
              "      <th>8</th>\n",
              "      <td>Corvette</td>\n",
              "      <td>2012</td>\n",
              "      <td>230.0</td>\n",
              "      <td>23.0</td>\n",
              "      <td>36900</td>\n",
              "      <td>3</td>\n",
              "      <td>Uptown Cars</td>\n",
              "      <td>2015-04-27</td>\n",
              "      <td>4</td>\n",
              "    </tr>\n",
              "    <tr>\n",
              "      <th>9</th>\n",
              "      <td>Corvette</td>\n",
              "      <td>2013</td>\n",
              "      <td>230.0</td>\n",
              "      <td>22.5</td>\n",
              "      <td>37200</td>\n",
              "      <td>2</td>\n",
              "      <td>Car Town</td>\n",
              "      <td>2013-12-15</td>\n",
              "      <td>12</td>\n",
              "    </tr>\n",
              "  </tbody>\n",
              "</table>\n",
              "</div>"
            ],
            "text/plain": [
              "        car  year  engine_hp  ...   dealership   sold_date  sold_month\n",
              "0  Corvette  2011      335.0  ...     Big Bobs  2012-05-06           5\n",
              "1  Corvette  2011      300.0  ...  Uptown Cars  2011-05-16           5\n",
              "2  Corvette  2011      300.0  ...  Uptown Cars  2013-07-31           7\n",
              "3  Corvette  2011      230.0  ...  Uptown Cars  2014-07-05           7\n",
              "4  Corvette  2011      230.0  ...  Uptown Cars  2013-05-20           5\n",
              "5  Corvette  2012      230.0  ...     Car Town  2013-04-10           4\n",
              "6  Corvette  2012      300.0  ...  Uptown Cars  2015-12-13          12\n",
              "7  Corvette  2012      300.0  ...     Big Bobs  2013-05-19           5\n",
              "8  Corvette  2012      230.0  ...  Uptown Cars  2015-04-27           4\n",
              "9  Corvette  2013      230.0  ...     Car Town  2013-12-15          12\n",
              "\n",
              "[10 rows x 9 columns]"
            ]
          },
          "metadata": {
            "tags": []
          },
          "execution_count": 19
        }
      ]
    },
    {
      "cell_type": "code",
      "metadata": {
        "colab": {
          "base_uri": "https://localhost:8080/"
        },
        "id": "UhNKFmpkKpks",
        "outputId": "d9a34b68-40a6-41b4-f459-e8ca15d90a54"
      },
      "source": [
        "#Which month most sale?\r\n",
        "cars.groupby('sold_month').count()['car'].argmax()"
      ],
      "execution_count": 16,
      "outputs": [
        {
          "output_type": "execute_result",
          "data": {
            "text/plain": [
              "4"
            ]
          },
          "metadata": {
            "tags": []
          },
          "execution_count": 16
        }
      ]
    },
    {
      "cell_type": "code",
      "metadata": {
        "colab": {
          "base_uri": "https://localhost:8080/"
        },
        "id": "STBCerATPYrZ",
        "outputId": "6a9c5caf-3a36-40c7-cce9-de6356f8036a"
      },
      "source": [
        "#Which car salesman sold most cars?\r\n",
        "cars.groupby('salesman').count()['car'].argmax()"
      ],
      "execution_count": 28,
      "outputs": [
        {
          "output_type": "execute_result",
          "data": {
            "text/plain": [
              "2"
            ]
          },
          "metadata": {
            "tags": []
          },
          "execution_count": 28
        }
      ]
    },
    {
      "cell_type": "code",
      "metadata": {
        "colab": {
          "base_uri": "https://localhost:8080/"
        },
        "id": "JSU3pw3HPWnk",
        "outputId": "5d19bee9-e706-4150-c7ef-be7fad8ace06"
      },
      "source": [
        "cars.groupby('dealership').count()['car'].argmax()"
      ],
      "execution_count": 31,
      "outputs": [
        {
          "output_type": "execute_result",
          "data": {
            "text/plain": [
              "2"
            ]
          },
          "metadata": {
            "tags": []
          },
          "execution_count": 31
        }
      ]
    },
    {
      "cell_type": "code",
      "metadata": {
        "colab": {
          "base_uri": "https://localhost:8080/"
        },
        "id": "ITT9H2HuPUIB",
        "outputId": "2dfed64a-9d3f-4149-c85b-93b255bc6dd9"
      },
      "source": [
        "cars.groupby('year').mean()['price']"
      ],
      "execution_count": 35,
      "outputs": [
        {
          "output_type": "execute_result",
          "data": {
            "text/plain": [
              "year\n",
              "1990     2000.000000\n",
              "1991     2000.000000\n",
              "1992     2000.000000\n",
              "1993     2080.846154\n",
              "1994     2199.000000\n",
              "1995     2592.000000\n",
              "1996     3178.973684\n",
              "1997     3378.230769\n",
              "1998     4013.243243\n",
              "1999     3526.318182\n",
              "2000     3900.571429\n",
              "2001    35726.562500\n",
              "2002    29514.000000\n",
              "2003    30394.705882\n",
              "2004    22877.777778\n",
              "2005    28484.838710\n",
              "2006    31113.620690\n",
              "2007    27576.600000\n",
              "2008    29140.000000\n",
              "2009    26622.000000\n",
              "2010    29457.727273\n",
              "2011    29392.800000\n",
              "2012    30800.384615\n",
              "2013    34639.880952\n",
              "2014    45985.576923\n",
              "2015    41269.648058\n",
              "2016    40794.751693\n",
              "2017    40660.153846\n",
              "Name: price, dtype: float64"
            ]
          },
          "metadata": {
            "tags": []
          },
          "execution_count": 35
        }
      ]
    },
    {
      "cell_type": "code",
      "metadata": {
        "id": "7SB1G2guPMwD"
      },
      "source": [
        "onlyCorvette=cars['car']=='Corvette'"
      ],
      "execution_count": 37,
      "outputs": []
    },
    {
      "cell_type": "code",
      "metadata": {
        "colab": {
          "base_uri": "https://localhost:8080/",
          "height": 111
        },
        "id": "Z1DTUVzlNPlg",
        "outputId": "82901f26-ad05-4c9a-f671-db9b5c0b7a98"
      },
      "source": [
        "cars[onlyCorvette].groupby('car').count()"
      ],
      "execution_count": 41,
      "outputs": [
        {
          "output_type": "execute_result",
          "data": {
            "text/html": [
              "<div>\n",
              "<style scoped>\n",
              "    .dataframe tbody tr th:only-of-type {\n",
              "        vertical-align: middle;\n",
              "    }\n",
              "\n",
              "    .dataframe tbody tr th {\n",
              "        vertical-align: top;\n",
              "    }\n",
              "\n",
              "    .dataframe thead th {\n",
              "        text-align: right;\n",
              "    }\n",
              "</style>\n",
              "<table border=\"1\" class=\"dataframe\">\n",
              "  <thead>\n",
              "    <tr style=\"text-align: right;\">\n",
              "      <th></th>\n",
              "      <th>year</th>\n",
              "      <th>engine_hp</th>\n",
              "      <th>avg_mpg</th>\n",
              "      <th>price</th>\n",
              "      <th>salesman</th>\n",
              "      <th>dealership</th>\n",
              "      <th>sold_date</th>\n",
              "      <th>sold_month</th>\n",
              "    </tr>\n",
              "    <tr>\n",
              "      <th>car</th>\n",
              "      <th></th>\n",
              "      <th></th>\n",
              "      <th></th>\n",
              "      <th></th>\n",
              "      <th></th>\n",
              "      <th></th>\n",
              "      <th></th>\n",
              "      <th></th>\n",
              "    </tr>\n",
              "  </thead>\n",
              "  <tbody>\n",
              "    <tr>\n",
              "      <th>Corvette</th>\n",
              "      <td>334</td>\n",
              "      <td>334</td>\n",
              "      <td>334</td>\n",
              "      <td>334</td>\n",
              "      <td>334</td>\n",
              "      <td>334</td>\n",
              "      <td>334</td>\n",
              "      <td>334</td>\n",
              "    </tr>\n",
              "  </tbody>\n",
              "</table>\n",
              "</div>"
            ],
            "text/plain": [
              "          year  engine_hp  avg_mpg  ...  dealership  sold_date  sold_month\n",
              "car                                 ...                                   \n",
              "Corvette   334        334      334  ...         334        334         334\n",
              "\n",
              "[1 rows x 8 columns]"
            ]
          },
          "metadata": {
            "tags": []
          },
          "execution_count": 41
        }
      ]
    },
    {
      "cell_type": "code",
      "metadata": {
        "colab": {
          "base_uri": "https://localhost:8080/"
        },
        "id": "8BwpL9OONKW2",
        "outputId": "2f15634c-a284-4544-d2f0-74e870a76d5b"
      },
      "source": [
        "cars[onlyCorvette].groupby('year').mean()['price']"
      ],
      "execution_count": 42,
      "outputs": [
        {
          "output_type": "execute_result",
          "data": {
            "text/plain": [
              "year\n",
              "1995      6376.666667\n",
              "1996      6317.000000\n",
              "1997      7158.500000\n",
              "2000      4809.333333\n",
              "2001     54313.333333\n",
              "2002     56378.000000\n",
              "2003    134200.000000\n",
              "2006     50300.000000\n",
              "2007     51100.000000\n",
              "2008     51400.000000\n",
              "2010     88900.000000\n",
              "2011     45997.500000\n",
              "2012     37875.000000\n",
              "2013     44166.666667\n",
              "2014     93730.000000\n",
              "2015     65173.786408\n",
              "2016     61910.806452\n",
              "2017     63196.835443\n",
              "Name: price, dtype: float64"
            ]
          },
          "metadata": {
            "tags": []
          },
          "execution_count": 42
        }
      ]
    },
    {
      "cell_type": "code",
      "metadata": {
        "colab": {
          "base_uri": "https://localhost:8080/",
          "height": 296
        },
        "id": "qDoPJBIEM_94",
        "outputId": "890462f9-999b-4433-f424-da886445cace"
      },
      "source": [
        "#Avg price of corvette gt $100K\r\n",
        "cars[onlyCorvette].groupby('year').mean()['price'].plot()"
      ],
      "execution_count": 48,
      "outputs": [
        {
          "output_type": "execute_result",
          "data": {
            "text/plain": [
              "<matplotlib.axes._subplots.AxesSubplot at 0x7f176820e048>"
            ]
          },
          "metadata": {
            "tags": []
          },
          "execution_count": 48
        },
        {
          "output_type": "display_data",
          "data": {
            "image/png": "[encoded data removed]",
            "text/plain": [
              "<Figure size 432x288 with 1 Axes>"
            ]
          },
          "metadata": {
            "tags": []
          }
        }
      ]
    },
    {
      "cell_type": "code",
      "metadata": {
        "colab": {
          "base_uri": "https://localhost:8080/",
          "height": 359
        },
        "id": "I93R5fQ-SyqH",
        "outputId": "d404b0d4-9648-472d-e7ec-e483154ccfef"
      },
      "source": [
        "cars.head(10)"
      ],
      "execution_count": 49,
      "outputs": [
        {
          "output_type": "execute_result",
          "data": {
            "text/html": [
              "<div>\n",
              "<style scoped>\n",
              "    .dataframe tbody tr th:only-of-type {\n",
              "        vertical-align: middle;\n",
              "    }\n",
              "\n",
              "    .dataframe tbody tr th {\n",
              "        vertical-align: top;\n",
              "    }\n",
              "\n",
              "    .dataframe thead th {\n",
              "        text-align: right;\n",
              "    }\n",
              "</style>\n",
              "<table border=\"1\" class=\"dataframe\">\n",
              "  <thead>\n",
              "    <tr style=\"text-align: right;\">\n",
              "      <th></th>\n",
              "      <th>car</th>\n",
              "      <th>year</th>\n",
              "      <th>engine_hp</th>\n",
              "      <th>avg_mpg</th>\n",
              "      <th>price</th>\n",
              "      <th>salesman</th>\n",
              "      <th>dealership</th>\n",
              "      <th>sold_date</th>\n",
              "      <th>sold_month</th>\n",
              "    </tr>\n",
              "  </thead>\n",
              "  <tbody>\n",
              "    <tr>\n",
              "      <th>0</th>\n",
              "      <td>Corvette</td>\n",
              "      <td>2011</td>\n",
              "      <td>335.0</td>\n",
              "      <td>22.5</td>\n",
              "      <td>46135</td>\n",
              "      <td>2</td>\n",
              "      <td>Big Bobs</td>\n",
              "      <td>2012-05-06</td>\n",
              "      <td>5</td>\n",
              "    </tr>\n",
              "    <tr>\n",
              "      <th>1</th>\n",
              "      <td>Corvette</td>\n",
              "      <td>2011</td>\n",
              "      <td>300.0</td>\n",
              "      <td>23.5</td>\n",
              "      <td>40650</td>\n",
              "      <td>2</td>\n",
              "      <td>Uptown Cars</td>\n",
              "      <td>2011-05-16</td>\n",
              "      <td>5</td>\n",
              "    </tr>\n",
              "    <tr>\n",
              "      <th>2</th>\n",
              "      <td>Corvette</td>\n",
              "      <td>2011</td>\n",
              "      <td>300.0</td>\n",
              "      <td>24.0</td>\n",
              "      <td>36350</td>\n",
              "      <td>2</td>\n",
              "      <td>Uptown Cars</td>\n",
              "      <td>2013-07-31</td>\n",
              "      <td>7</td>\n",
              "    </tr>\n",
              "    <tr>\n",
              "      <th>3</th>\n",
              "      <td>Corvette</td>\n",
              "      <td>2011</td>\n",
              "      <td>230.0</td>\n",
              "      <td>23.0</td>\n",
              "      <td>29450</td>\n",
              "      <td>2</td>\n",
              "      <td>Uptown Cars</td>\n",
              "      <td>2014-07-05</td>\n",
              "      <td>7</td>\n",
              "    </tr>\n",
              "    <tr>\n",
              "      <th>4</th>\n",
              "      <td>Corvette</td>\n",
              "      <td>2011</td>\n",
              "      <td>230.0</td>\n",
              "      <td>23.0</td>\n",
              "      <td>34500</td>\n",
              "      <td>2</td>\n",
              "      <td>Uptown Cars</td>\n",
              "      <td>2013-05-20</td>\n",
              "      <td>5</td>\n",
              "    </tr>\n",
              "    <tr>\n",
              "      <th>5</th>\n",
              "      <td>Corvette</td>\n",
              "      <td>2012</td>\n",
              "      <td>230.0</td>\n",
              "      <td>23.0</td>\n",
              "      <td>31200</td>\n",
              "      <td>3</td>\n",
              "      <td>Car Town</td>\n",
              "      <td>2013-04-10</td>\n",
              "      <td>4</td>\n",
              "    </tr>\n",
              "    <tr>\n",
              "      <th>6</th>\n",
              "      <td>Corvette</td>\n",
              "      <td>2012</td>\n",
              "      <td>300.0</td>\n",
              "      <td>21.5</td>\n",
              "      <td>44100</td>\n",
              "      <td>3</td>\n",
              "      <td>Uptown Cars</td>\n",
              "      <td>2015-12-13</td>\n",
              "      <td>12</td>\n",
              "    </tr>\n",
              "    <tr>\n",
              "      <th>7</th>\n",
              "      <td>Corvette</td>\n",
              "      <td>2012</td>\n",
              "      <td>300.0</td>\n",
              "      <td>24.0</td>\n",
              "      <td>39300</td>\n",
              "      <td>2</td>\n",
              "      <td>Big Bobs</td>\n",
              "      <td>2013-05-19</td>\n",
              "      <td>5</td>\n",
              "    </tr>\n",
              "    <tr>\n",
              "      <th>8</th>\n",
              "      <td>Corvette</td>\n",
              "      <td>2012</td>\n",
              "      <td>230.0</td>\n",
              "      <td>23.0</td>\n",
              "      <td>36900</td>\n",
              "      <td>3</td>\n",
              "      <td>Uptown Cars</td>\n",
              "      <td>2015-04-27</td>\n",
              "      <td>4</td>\n",
              "    </tr>\n",
              "    <tr>\n",
              "      <th>9</th>\n",
              "      <td>Corvette</td>\n",
              "      <td>2013</td>\n",
              "      <td>230.0</td>\n",
              "      <td>22.5</td>\n",
              "      <td>37200</td>\n",
              "      <td>2</td>\n",
              "      <td>Car Town</td>\n",
              "      <td>2013-12-15</td>\n",
              "      <td>12</td>\n",
              "    </tr>\n",
              "  </tbody>\n",
              "</table>\n",
              "</div>"
            ],
            "text/plain": [
              "        car  year  engine_hp  ...   dealership   sold_date  sold_month\n",
              "0  Corvette  2011      335.0  ...     Big Bobs  2012-05-06           5\n",
              "1  Corvette  2011      300.0  ...  Uptown Cars  2011-05-16           5\n",
              "2  Corvette  2011      300.0  ...  Uptown Cars  2013-07-31           7\n",
              "3  Corvette  2011      230.0  ...  Uptown Cars  2014-07-05           7\n",
              "4  Corvette  2011      230.0  ...  Uptown Cars  2013-05-20           5\n",
              "5  Corvette  2012      230.0  ...     Car Town  2013-04-10           4\n",
              "6  Corvette  2012      300.0  ...  Uptown Cars  2015-12-13          12\n",
              "7  Corvette  2012      300.0  ...     Big Bobs  2013-05-19           5\n",
              "8  Corvette  2012      230.0  ...  Uptown Cars  2015-04-27           4\n",
              "9  Corvette  2013      230.0  ...     Car Town  2013-12-15          12\n",
              "\n",
              "[10 rows x 9 columns]"
            ]
          },
          "metadata": {
            "tags": []
          },
          "execution_count": 49
        }
      ]
    },
    {
      "cell_type": "code",
      "metadata": {
        "colab": {
          "base_uri": "https://localhost:8080/",
          "height": 419
        },
        "id": "AZ-upBAzTKGT",
        "outputId": "31dcf454-d8a8-4fb5-dc37-c16bf0b0f0ff"
      },
      "source": [
        "cars[['car', 'engine_hp']]"
      ],
      "execution_count": 52,
      "outputs": [
        {
          "output_type": "execute_result",
          "data": {
            "text/html": [
              "<div>\n",
              "<style scoped>\n",
              "    .dataframe tbody tr th:only-of-type {\n",
              "        vertical-align: middle;\n",
              "    }\n",
              "\n",
              "    .dataframe tbody tr th {\n",
              "        vertical-align: top;\n",
              "    }\n",
              "\n",
              "    .dataframe thead th {\n",
              "        text-align: right;\n",
              "    }\n",
              "</style>\n",
              "<table border=\"1\" class=\"dataframe\">\n",
              "  <thead>\n",
              "    <tr style=\"text-align: right;\">\n",
              "      <th></th>\n",
              "      <th>car</th>\n",
              "      <th>engine_hp</th>\n",
              "    </tr>\n",
              "  </thead>\n",
              "  <tbody>\n",
              "    <tr>\n",
              "      <th>0</th>\n",
              "      <td>Corvette</td>\n",
              "      <td>335.0</td>\n",
              "    </tr>\n",
              "    <tr>\n",
              "      <th>1</th>\n",
              "      <td>Corvette</td>\n",
              "      <td>300.0</td>\n",
              "    </tr>\n",
              "    <tr>\n",
              "      <th>2</th>\n",
              "      <td>Corvette</td>\n",
              "      <td>300.0</td>\n",
              "    </tr>\n",
              "    <tr>\n",
              "      <th>3</th>\n",
              "      <td>Corvette</td>\n",
              "      <td>230.0</td>\n",
              "    </tr>\n",
              "    <tr>\n",
              "      <th>4</th>\n",
              "      <td>Corvette</td>\n",
              "      <td>230.0</td>\n",
              "    </tr>\n",
              "    <tr>\n",
              "      <th>...</th>\n",
              "      <td>...</td>\n",
              "      <td>...</td>\n",
              "    </tr>\n",
              "    <tr>\n",
              "      <th>1956</th>\n",
              "      <td>Corvette</td>\n",
              "      <td>240.0</td>\n",
              "    </tr>\n",
              "    <tr>\n",
              "      <th>1957</th>\n",
              "      <td>Corvette</td>\n",
              "      <td>335.0</td>\n",
              "    </tr>\n",
              "    <tr>\n",
              "      <th>1958</th>\n",
              "      <td>Corvette</td>\n",
              "      <td>394.0</td>\n",
              "    </tr>\n",
              "    <tr>\n",
              "      <th>1959</th>\n",
              "      <td>Corvette</td>\n",
              "      <td>394.0</td>\n",
              "    </tr>\n",
              "    <tr>\n",
              "      <th>1960</th>\n",
              "      <td>Corvette</td>\n",
              "      <td>394.0</td>\n",
              "    </tr>\n",
              "  </tbody>\n",
              "</table>\n",
              "<p>1961 rows × 2 columns</p>\n",
              "</div>"
            ],
            "text/plain": [
              "           car  engine_hp\n",
              "0     Corvette      335.0\n",
              "1     Corvette      300.0\n",
              "2     Corvette      300.0\n",
              "3     Corvette      230.0\n",
              "4     Corvette      230.0\n",
              "...        ...        ...\n",
              "1956  Corvette      240.0\n",
              "1957  Corvette      335.0\n",
              "1958  Corvette      394.0\n",
              "1959  Corvette      394.0\n",
              "1960  Corvette      394.0\n",
              "\n",
              "[1961 rows x 2 columns]"
            ]
          },
          "metadata": {
            "tags": []
          },
          "execution_count": 52
        }
      ]
    },
    {
      "cell_type": "code",
      "metadata": {
        "id": "a1ucQwnTTcjf"
      },
      "source": [
        "cars_hp=cars[['car', 'engine_hp']]"
      ],
      "execution_count": 53,
      "outputs": []
    },
    {
      "cell_type": "code",
      "metadata": {
        "colab": {
          "base_uri": "https://localhost:8080/",
          "height": 293
        },
        "id": "o9Z40ZWFTp6m",
        "outputId": "9925c7ff-a7f1-4e71-cce6-857cb5915aab"
      },
      "source": [
        "cars_hp.plot(x='car', y='engine_hp')"
      ],
      "execution_count": 54,
      "outputs": [
        {
          "output_type": "execute_result",
          "data": {
            "text/plain": [
              "<matplotlib.axes._subplots.AxesSubplot at 0x7f17680e3f28>"
            ]
          },
          "metadata": {
            "tags": []
          },
          "execution_count": 54
        },
        {
          "output_type": "display_data",
          "data": {
            "image/png": "[encoded data removed]",
            "text/plain": [
              "<Figure size 432x288 with 1 Axes>"
            ]
          },
          "metadata": {
            "tags": []
          }
        }
      ]
    },
    {
      "cell_type": "code",
      "metadata": {
        "colab": {
          "base_uri": "https://localhost:8080/",
          "height": 279
        },
        "id": "0i_Wx3oYT2Wm",
        "outputId": "038ba57b-8730-4441-afb2-ae93dc394a15"
      },
      "source": [
        "plt.plot(cars_hp['car'], cars_hp['engine_hp'], 'r+')"
      ],
      "execution_count": 58,
      "outputs": [
        {
          "output_type": "execute_result",
          "data": {
            "text/plain": [
              "[<matplotlib.lines.Line2D at 0x7f1767f31cc0>]"
            ]
          },
          "metadata": {
            "tags": []
          },
          "execution_count": 58
        },
        {
          "output_type": "display_data",
          "data": {
            "image/png": "[encoded data removed]",
            "text/plain": [
              "<Figure size 432x288 with 1 Axes>"
            ]
          },
          "metadata": {
            "tags": []
          }
        }
      ]
    },
    {
      "cell_type": "code",
      "metadata": {
        "id": "gt4LxqbSU2bm"
      },
      "source": [
        "spread = np.random.rand(50) * 100\r\n",
        "center = np.ones(25) * 50\r\n",
        "flier_high = np.random.rand(10) * 100 + 100\r\n",
        "flier_low = np.random.rand(10) * -100\r\n",
        "data = np.concatenate((spread, center, flier_high, flier_low))"
      ],
      "execution_count": null,
      "outputs": []
    },
    {
      "cell_type": "code",
      "metadata": {
        "id": "cWM-n2RAVAOV"
      },
      "source": [
        "ax.boxplot(data)"
      ],
      "execution_count": null,
      "outputs": []
    },
    {
      "cell_type": "code",
      "metadata": {
        "colab": {
          "base_uri": "https://localhost:8080/",
          "height": 368
        },
        "id": "GPawO3lcVQh4",
        "outputId": "479d8184-7939-45d3-cf2f-d2377edaca23"
      },
      "source": [
        "cars_hp.boxplot(by='car', column=['engine_hp'])"
      ],
      "execution_count": 59,
      "outputs": [
        {
          "output_type": "stream",
          "text": [
            "/usr/local/lib/python3.6/dist-packages/numpy/core/_asarray.py:83: VisibleDeprecationWarning: Creating an ndarray from ragged nested sequences (which is a list-or-tuple of lists-or-tuples-or ndarrays with different lengths or shapes) is deprecated. If you meant to do this, you must specify 'dtype=object' when creating the ndarray\n",
            "  return array(a, dtype, copy=False, order=order)\n"
          ],
          "name": "stderr"
        },
        {
          "output_type": "execute_result",
          "data": {
            "text/plain": [
              "<matplotlib.axes._subplots.AxesSubplot at 0x7f1767f948d0>"
            ]
          },
          "metadata": {
            "tags": []
          },
          "execution_count": 59
        },
        {
          "output_type": "display_data",
          "data": {
            "image/png": "[encoded data removed]",
            "text/plain": [
              "<Figure size 432x288 with 1 Axes>"
            ]
          },
          "metadata": {
            "tags": []
          }
        }
      ]
    },
    {
      "cell_type": "code",
      "metadata": {
        "id": "nszZs0ERVaxz"
      },
      "source": [
        ""
      ],
      "execution_count": null,
      "outputs": []
    }
  ]
}